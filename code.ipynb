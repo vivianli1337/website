{
 "cells": [
  {
   "cell_type": "code",
   "execution_count": null,
   "metadata": {},
   "outputs": [
    {
     "name": "stdout",
     "output_type": "stream",
     "text": [
      "     Platform PostType  AvgLikes\n",
      "0    Facebook    Image    555.89\n",
      "1    Facebook     Link    468.69\n",
      "2    Facebook    Video    505.00\n",
      "3   Instagram    Image    502.64\n",
      "4   Instagram     Link    459.34\n",
      "5   Instagram    Video    461.54\n",
      "6    LinkedIn    Image    449.43\n",
      "7    LinkedIn     Link    473.82\n",
      "8    LinkedIn    Video    487.07\n",
      "9     Twitter    Image    537.70\n",
      "10    Twitter     Link    543.35\n",
      "11    Twitter    Video    522.92\n"
     ]
    }
   ],
   "source": [
    "import pandas as pd\n",
    "\n",
    "df = pd.read_csv(\"socialMedia.csv\")\n",
    "\n",
    "df.columns = df.columns.str.strip()\n",
    "\n",
    "avg_platform = df.groupby(['Platform', 'PostType'])['Likes'].mean().reset_index()\n",
    "\n",
    "avg_platform['Likes'] = avg_platform['Likes'].round(2)\n",
    "\n",
    "avg_platform.rename(columns={'Likes': 'AvgLikes'}, inplace=True)\n",
    "\n",
    "avg_platform = avg_platform.reset_index(drop=True)\n",
    "\n",
    "print(avg_platform)\n",
    "# avg_platform.to_csv('SocialMediaAvg.csv')"
   ]
  },
  {
   "cell_type": "code",
   "execution_count": null,
   "metadata": {},
   "outputs": [
    {
     "name": "stdout",
     "output_type": "stream",
     "text": [
      "                   Date  AvgLikes\n",
      "0     3/1/2024 (Friday)    478.50\n",
      "1   3/2/2024 (Saturday)    477.99\n",
      "2     3/3/2024 (Sunday)    542.42\n",
      "3     3/4/2024 (Monday)    523.59\n",
      "4    3/5/2024 (Tuesday)    423.26\n",
      "5  3/6/2024 (Wednesday)    552.94\n",
      "6   3/7/2024 (Thursday)    485.79\n"
     ]
    }
   ],
   "source": [
    "file = \"socialMedia.csv\"  \n",
    "df = pd.read_csv(file)\n",
    "\n",
    "avg_date = df.groupby('Date')['Likes'].mean().reset_index()\n",
    "\n",
    "avg_date['Likes'] = avg_date['Likes'].round(2)\n",
    "\n",
    "avg_date.rename(columns={'Likes': 'AvgLikes'}, inplace=True)\n",
    "\n",
    "print(avg_date)\n",
    "\n",
    "# avg_date.to_csv('SocialMediaTime.csv')"
   ]
  },
  {
   "cell_type": "code",
   "execution_count": null,
   "metadata": {},
   "outputs": [],
   "source": []
  }
 ],
 "metadata": {
  "kernelspec": {
   "display_name": "ds",
   "language": "python",
   "name": "python3"
  },
  "language_info": {
   "codemirror_mode": {
    "name": "ipython",
    "version": 3
   },
   "file_extension": ".py",
   "mimetype": "text/x-python",
   "name": "python",
   "nbconvert_exporter": "python",
   "pygments_lexer": "ipython3",
   "version": "3.11.8"
  }
 },
 "nbformat": 4,
 "nbformat_minor": 2
}
